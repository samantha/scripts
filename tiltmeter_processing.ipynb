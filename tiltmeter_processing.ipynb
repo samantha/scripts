{
 "cells": [
  {
   "cell_type": "markdown",
   "metadata": {},
   "source": [
    "# Setup"
   ]
  },
  {
   "cell_type": "code",
   "execution_count": 537,
   "metadata": {},
   "outputs": [],
   "source": [
    "import pandas as pd\n",
    "import numpy as np\n",
    "from shanwilpy.figure import swfig\n",
    "import matplotlib.dates as mdates\n",
    "from matplotlib.ticker import FormatStrFormatter\n",
    "import time"
   ]
  },
  {
   "cell_type": "markdown",
   "metadata": {},
   "source": [
    "## Pre-processing "
   ]
  },
  {
   "cell_type": "markdown",
   "metadata": {},
   "source": [
    "# 1. Change filename for MASTER data "
   ]
  },
  {
   "cell_type": "code",
   "execution_count": 538,
   "metadata": {
    "scrolled": true
   },
   "outputs": [
    {
     "name": "stdout",
     "output_type": "stream",
     "text": [
      "Last time recorded: 2019-08-08 10:00:00\n"
     ]
    }
   ],
   "source": [
    "# CHANGE FILENAME HERE for the most recent data processed\n",
    "df = pd.read_excel('TILTMETER DATA 2_1_19.xlsx')\n",
    "df.index = df[\"TIMESTAMP\"] # assign index based on timestamp\n",
    "\n",
    "# Get index of last element in master file\n",
    "print(\"Last time recorded: \" + str(df[\"TIMESTAMP\"].iloc[-1]))"
   ]
  },
  {
   "cell_type": "markdown",
   "metadata": {},
   "source": [
    "# 2. Change filename for new data here"
   ]
  },
  {
   "cell_type": "code",
   "execution_count": 539,
   "metadata": {},
   "outputs": [],
   "source": [
    "# CHANGE FILENAME HERE for NEW tiltmeter data\n",
    "new_data = pd.read_csv(\"new network boo_2019-02-01_2019-08-08.csv\", sep=\",\", skiprows=3)"
   ]
  },
  {
   "cell_type": "code",
   "execution_count": 540,
   "metadata": {},
   "outputs": [],
   "source": [
    "new_data.rename(columns={'Unnamed: 0' : 'TIMESTAMP', 'Unnamed: 1' : 'GEONET RECORD', 'Degrees' : '1848117_AxisA_1 (Degrees)', \\\n",
    "                   'Degrees.1' : '1848117_AxisB_1 (Degrees)', 'degreesC' : '1848117_MEMSTherm1'}, inplace = True)\n",
    "new_data[\"TIMESTAMP\"] = pd.to_datetime(new_data[\"TIMESTAMP\"])\n",
    "new_data.index = new_data[\"TIMESTAMP\"]"
   ]
  },
  {
   "cell_type": "markdown",
   "metadata": {},
   "source": [
    "## Merge master dataset with new dataset"
   ]
  },
  {
   "cell_type": "code",
   "execution_count": 541,
   "metadata": {
    "scrolled": true
   },
   "outputs": [
    {
     "name": "stdout",
     "output_type": "stream",
     "text": [
      "Last time recorded after update: 2019-08-08 22:00:00\n"
     ]
    }
   ],
   "source": [
    "df = new_data.set_index([\"TIMESTAMP\"]).combine_first(df.set_index([\"TIMESTAMP\"])).reset_index()\n",
    "df.index = df[\"TIMESTAMP\"] \n",
    "print(\"Last time recorded after update: \" + str(df[\"TIMESTAMP\"].iloc[-1]))"
   ]
  },
  {
   "cell_type": "code",
   "execution_count": 542,
   "metadata": {},
   "outputs": [],
   "source": [
    "## Omit Outliers"
   ]
  },
  {
   "cell_type": "code",
   "execution_count": 543,
   "metadata": {
    "scrolled": true
   },
   "outputs": [
    {
     "name": "stdout",
     "output_type": "stream",
     "text": [
      "OMITTED DATAPOINTS\n",
      "                              TIMESTAMP  GEONET RECORD  \\\n",
      "TIMESTAMP                                                \n",
      "2019-02-28 16:00:00 2019-02-28 16:00:00          664.0   \n",
      "2019-03-01 15:00:00 2019-03-01 15:00:00          687.0   \n",
      "2019-03-16 15:00:00 2019-03-16 15:00:00         1046.0   \n",
      "2019-03-16 16:00:00 2019-03-16 16:00:00         1047.0   \n",
      "2019-03-16 17:00:00 2019-03-16 17:00:00         1048.0   \n",
      "2019-03-19 15:00:00 2019-03-19 15:00:00         1118.0   \n",
      "2019-03-19 16:00:00 2019-03-19 16:00:00         1119.0   \n",
      "2019-03-19 17:00:00 2019-03-19 17:00:00         1120.0   \n",
      "2019-03-30 15:00:00 2019-03-30 15:00:00         1382.0   \n",
      "2019-03-30 16:00:00 2019-03-30 16:00:00         1383.0   \n",
      "2019-03-31 15:00:00 2019-03-31 15:00:00         1406.0   \n",
      "2019-03-31 16:00:00 2019-03-31 16:00:00         1407.0   \n",
      "2019-04-07 16:00:00 2019-04-07 16:00:00         1575.0   \n",
      "2019-04-07 17:00:00 2019-04-07 17:00:00         1576.0   \n",
      "2019-04-08 14:00:00 2019-04-08 14:00:00         1597.0   \n",
      "2019-04-08 15:00:00 2019-04-08 15:00:00         1598.0   \n",
      "2019-04-08 16:00:00 2019-04-08 16:00:00         1599.0   \n",
      "2019-04-08 17:00:00 2019-04-08 17:00:00         1600.0   \n",
      "2019-04-14 14:00:00 2019-04-14 14:00:00         1741.0   \n",
      "2019-04-14 15:00:00 2019-04-14 15:00:00         1742.0   \n",
      "2019-04-14 16:00:00 2019-04-14 16:00:00         1743.0   \n",
      "2019-04-14 17:00:00 2019-04-14 17:00:00         1744.0   \n",
      "2019-04-19 14:00:00 2019-04-19 14:00:00         1861.0   \n",
      "2019-04-19 15:00:00 2019-04-19 15:00:00         1862.0   \n",
      "2019-04-19 16:00:00 2019-04-19 16:00:00         1863.0   \n",
      "2019-04-19 17:00:00 2019-04-19 17:00:00         1864.0   \n",
      "2019-04-19 18:00:00 2019-04-19 18:00:00         1865.0   \n",
      "2019-04-21 17:00:00 2019-04-21 17:00:00         1912.0   \n",
      "2019-04-22 17:00:00 2019-04-22 17:00:00         1936.0   \n",
      "2019-04-24 13:00:00 2019-04-24 13:00:00         1980.0   \n",
      "...                                 ...            ...   \n",
      "2019-08-05 13:00:00 2019-08-05 13:00:00         4452.0   \n",
      "2019-08-05 14:00:00 2019-08-05 14:00:00         4453.0   \n",
      "2019-08-05 15:00:00 2019-08-05 15:00:00         4454.0   \n",
      "2019-08-05 16:00:00 2019-08-05 16:00:00         4455.0   \n",
      "2019-08-05 17:00:00 2019-08-05 17:00:00         4456.0   \n",
      "2019-08-05 18:00:00 2019-08-05 18:00:00         4457.0   \n",
      "2019-08-05 19:00:00 2019-08-05 19:00:00         4458.0   \n",
      "2019-08-05 20:00:00 2019-08-05 20:00:00         4459.0   \n",
      "2019-08-06 14:00:00 2019-08-06 14:00:00         4477.0   \n",
      "2019-08-06 15:00:00 2019-08-06 15:00:00         4478.0   \n",
      "2019-08-06 16:00:00 2019-08-06 16:00:00         4479.0   \n",
      "2019-08-06 17:00:00 2019-08-06 17:00:00         4480.0   \n",
      "2019-08-06 18:00:00 2019-08-06 18:00:00         4481.0   \n",
      "2019-08-07 10:00:00 2019-08-07 10:00:00         4497.0   \n",
      "2019-08-07 11:00:00 2019-08-07 11:00:00         4498.0   \n",
      "2019-08-07 12:00:00 2019-08-07 12:00:00         4499.0   \n",
      "2019-08-07 13:00:00 2019-08-07 13:00:00         4500.0   \n",
      "2019-08-07 15:00:00 2019-08-07 15:00:00         4502.0   \n",
      "2019-08-07 16:00:00 2019-08-07 16:00:00         4503.0   \n",
      "2019-08-07 17:00:00 2019-08-07 17:00:00         4504.0   \n",
      "2019-08-07 18:00:00 2019-08-07 18:00:00         4505.0   \n",
      "2019-08-07 19:00:00 2019-08-07 19:00:00         4506.0   \n",
      "2019-08-07 20:00:00 2019-08-07 20:00:00         4507.0   \n",
      "2019-08-08 11:00:00 2019-08-08 11:00:00         4522.0   \n",
      "2019-08-08 12:00:00 2019-08-08 12:00:00         4523.0   \n",
      "2019-08-08 13:00:00 2019-08-08 13:00:00         4524.0   \n",
      "2019-08-08 14:00:00 2019-08-08 14:00:00         4525.0   \n",
      "2019-08-08 15:00:00 2019-08-08 15:00:00         4526.0   \n",
      "2019-08-08 16:00:00 2019-08-08 16:00:00         4527.0   \n",
      "2019-08-08 17:00:00 2019-08-08 17:00:00         4528.0   \n",
      "\n",
      "                     1848117_AxisA_1 (Degrees)  1848117_AxisB_1 (Degrees)  \\\n",
      "TIMESTAMP                                                                   \n",
      "2019-02-28 16:00:00                        0.0                        0.0   \n",
      "2019-03-01 15:00:00                        0.0                        0.0   \n",
      "2019-03-16 15:00:00                        0.0                        0.0   \n",
      "2019-03-16 16:00:00                        0.0                        0.0   \n",
      "2019-03-16 17:00:00                        0.0                        0.0   \n",
      "2019-03-19 15:00:00                        0.0                        0.0   \n",
      "2019-03-19 16:00:00                        0.0                        0.0   \n",
      "2019-03-19 17:00:00                        0.0                        0.0   \n",
      "2019-03-30 15:00:00                        0.0                        0.0   \n",
      "2019-03-30 16:00:00                        0.0                        0.0   \n",
      "2019-03-31 15:00:00                        0.0                        0.0   \n",
      "2019-03-31 16:00:00                        0.0                        0.0   \n",
      "2019-04-07 16:00:00                        0.0                        0.0   \n",
      "2019-04-07 17:00:00                        0.0                        0.0   \n",
      "2019-04-08 14:00:00                        0.0                        0.0   \n",
      "2019-04-08 15:00:00                        0.0                        0.0   \n",
      "2019-04-08 16:00:00                        0.0                        0.0   \n",
      "2019-04-08 17:00:00                        0.0                        0.0   \n",
      "2019-04-14 14:00:00                        0.0                        0.0   \n",
      "2019-04-14 15:00:00                        0.0                        0.0   \n",
      "2019-04-14 16:00:00                        0.0                        0.0   \n",
      "2019-04-14 17:00:00                        0.0                        0.0   \n",
      "2019-04-19 14:00:00                        0.0                        0.0   \n",
      "2019-04-19 15:00:00                        0.0                        0.0   \n",
      "2019-04-19 16:00:00                        0.0                        0.0   \n",
      "2019-04-19 17:00:00                        0.0                        0.0   \n",
      "2019-04-19 18:00:00                        0.0                        0.0   \n",
      "2019-04-21 17:00:00                        0.0                        0.0   \n",
      "2019-04-22 17:00:00                        0.0                        0.0   \n",
      "2019-04-24 13:00:00                        0.0                        0.0   \n",
      "...                                        ...                        ...   \n",
      "2019-08-05 13:00:00                        0.0                        0.0   \n",
      "2019-08-05 14:00:00                        0.0                        0.0   \n",
      "2019-08-05 15:00:00                        0.0                        0.0   \n",
      "2019-08-05 16:00:00                        0.0                        0.0   \n",
      "2019-08-05 17:00:00                        0.0                        0.0   \n",
      "2019-08-05 18:00:00                        0.0                        0.0   \n",
      "2019-08-05 19:00:00                        0.0                        0.0   \n",
      "2019-08-05 20:00:00                        0.0                        0.0   \n",
      "2019-08-06 14:00:00                        0.0                        0.0   \n",
      "2019-08-06 15:00:00                        0.0                        0.0   \n",
      "2019-08-06 16:00:00                        0.0                        0.0   \n",
      "2019-08-06 17:00:00                        0.0                        0.0   \n",
      "2019-08-06 18:00:00                        0.0                        0.0   \n",
      "2019-08-07 10:00:00                        0.0                        0.0   \n",
      "2019-08-07 11:00:00                        0.0                        0.0   \n",
      "2019-08-07 12:00:00                        0.0                        0.0   \n",
      "2019-08-07 13:00:00                        0.0                        0.0   \n",
      "2019-08-07 15:00:00                        0.0                        0.0   \n",
      "2019-08-07 16:00:00                        0.0                        0.0   \n",
      "2019-08-07 17:00:00                        0.0                        0.0   \n",
      "2019-08-07 18:00:00                        0.0                        0.0   \n",
      "2019-08-07 19:00:00                        0.0                        0.0   \n",
      "2019-08-07 20:00:00                        0.0                        0.0   \n",
      "2019-08-08 11:00:00                        0.0                        0.0   \n",
      "2019-08-08 12:00:00                        0.0                        0.0   \n",
      "2019-08-08 13:00:00                        0.0                        0.0   \n",
      "2019-08-08 14:00:00                        0.0                        0.0   \n",
      "2019-08-08 15:00:00                        0.0                        0.0   \n",
      "2019-08-08 16:00:00                        0.0                        0.0   \n",
      "2019-08-08 17:00:00                        0.0                        0.0   \n",
      "\n",
      "                     1848117_MEMSTherm1  \n",
      "TIMESTAMP                                \n",
      "2019-02-28 16:00:00              62.237  \n",
      "2019-03-01 15:00:00              62.237  \n",
      "2019-03-16 15:00:00              62.237  \n",
      "2019-03-16 16:00:00              62.237  \n",
      "2019-03-16 17:00:00              62.237  \n",
      "2019-03-19 15:00:00              62.237  \n",
      "2019-03-19 16:00:00              62.237  \n",
      "2019-03-19 17:00:00              62.237  \n",
      "2019-03-30 15:00:00              62.237  \n",
      "2019-03-30 16:00:00              62.237  \n",
      "2019-03-31 15:00:00              62.237  \n",
      "2019-03-31 16:00:00              62.237  \n",
      "2019-04-07 16:00:00              62.237  \n",
      "2019-04-07 17:00:00              62.237  \n",
      "2019-04-08 14:00:00              62.237  \n",
      "2019-04-08 15:00:00              62.237  \n",
      "2019-04-08 16:00:00              62.237  \n",
      "2019-04-08 17:00:00              62.237  \n",
      "2019-04-14 14:00:00              62.237  \n",
      "2019-04-14 15:00:00              62.237  \n",
      "2019-04-14 16:00:00              62.237  \n",
      "2019-04-14 17:00:00              62.237  \n",
      "2019-04-19 14:00:00              62.237  \n",
      "2019-04-19 15:00:00              62.237  \n",
      "2019-04-19 16:00:00              62.237  \n",
      "2019-04-19 17:00:00              62.237  \n",
      "2019-04-19 18:00:00              62.237  \n",
      "2019-04-21 17:00:00              62.237  \n",
      "2019-04-22 17:00:00              62.237  \n",
      "2019-04-24 13:00:00              62.237  \n",
      "...                                 ...  \n",
      "2019-08-05 13:00:00              62.237  \n",
      "2019-08-05 14:00:00              62.237  \n",
      "2019-08-05 15:00:00              62.237  \n",
      "2019-08-05 16:00:00              62.237  \n",
      "2019-08-05 17:00:00              62.237  \n",
      "2019-08-05 18:00:00              62.237  \n",
      "2019-08-05 19:00:00              62.237  \n",
      "2019-08-05 20:00:00              62.237  \n",
      "2019-08-06 14:00:00              62.237  \n",
      "2019-08-06 15:00:00              62.237  \n",
      "2019-08-06 16:00:00              62.237  \n",
      "2019-08-06 17:00:00              62.237  \n",
      "2019-08-06 18:00:00              62.237  \n",
      "2019-08-07 10:00:00              62.237  \n",
      "2019-08-07 11:00:00              62.237  \n",
      "2019-08-07 12:00:00              62.237  \n",
      "2019-08-07 13:00:00              62.237  \n",
      "2019-08-07 15:00:00              62.237  \n",
      "2019-08-07 16:00:00              62.237  \n",
      "2019-08-07 17:00:00              62.237  \n",
      "2019-08-07 18:00:00              62.237  \n",
      "2019-08-07 19:00:00              62.237  \n",
      "2019-08-07 20:00:00              62.237  \n",
      "2019-08-08 11:00:00              62.237  \n",
      "2019-08-08 12:00:00              40.142  \n",
      "2019-08-08 13:00:00              40.142  \n",
      "2019-08-08 14:00:00              40.142  \n",
      "2019-08-08 15:00:00              40.142  \n",
      "2019-08-08 16:00:00              40.142  \n",
      "2019-08-08 17:00:00              40.142  \n",
      "\n",
      "[701 rows x 5 columns]\n"
     ]
    }
   ],
   "source": [
    "# view outliers \n",
    "outlier = df[df[\"1848117_AxisA_1 (Degrees)\"] == 0]\n",
    "outlier = df[df[\"1848117_AxisB_1 (Degrees)\"] == 0]\n",
    "\n",
    "# Clip outliers\n",
    "df = df[df[\"1848117_AxisA_1 (Degrees)\"] != 0]\n",
    "df = df[df[\"1848117_AxisB_1 (Degrees)\"] != 0]\n",
    "\n",
    "print(\"OMITTED DATAPOINTS\")\n",
    "print(outlier)"
   ]
  },
  {
   "cell_type": "markdown",
   "metadata": {},
   "source": [
    "# 3. Change date here for new master file"
   ]
  },
  {
   "cell_type": "markdown",
   "metadata": {},
   "source": [
    "## Save new master file"
   ]
  },
  {
   "cell_type": "code",
   "execution_count": 544,
   "metadata": {},
   "outputs": [],
   "source": [
    "df.to_excel('TILTMETER DATA 8_12_19.xlsx', index = False)"
   ]
  },
  {
   "cell_type": "markdown",
   "metadata": {},
   "source": [
    "## Define A-axis and B-axis columns"
   ]
  },
  {
   "cell_type": "code",
   "execution_count": 545,
   "metadata": {},
   "outputs": [],
   "source": [
    "df['A-Axis Tilt Change'] = df['1848117_AxisA_1 (Degrees)'].loc['2019-01-30':]\n",
    "df['B-Axis Tilt Change'] = df['1848117_AxisB_1 (Degrees)'].loc['2019-01-30':]"
   ]
  },
  {
   "cell_type": "markdown",
   "metadata": {},
   "source": [
    "## Temperature Correction"
   ]
  },
  {
   "cell_type": "code",
   "execution_count": 546,
   "metadata": {},
   "outputs": [],
   "source": [
    "df[\"A-Axis Tilt Change\"] = 1.01720 * (df['1848117_AxisA_1 (Degrees)'] - (-1.807)) \\\n",
    "+ -0.0003 * (df['1848117_MEMSTherm1'] - 13.526)\n",
    "\n",
    "df[\"B-Axis Tilt Change\"] = 1.01427 * (df['1848117_AxisB_1 (Degrees)'] - (-0.121)) \\\n",
    "+ -0.0003 * (df['1848117_MEMSTherm1'] - 13.526)"
   ]
  },
  {
   "cell_type": "markdown",
   "metadata": {},
   "source": [
    "## Plot tiltmeter data and display graph"
   ]
  },
  {
   "cell_type": "code",
   "execution_count": 547,
   "metadata": {},
   "outputs": [
    {
     "data": {
      "image/png": "[encoded data removed]",
      "text/plain": [
       "<Swfig size 792x612 with 1 Axes>"
      ]
     },
     "metadata": {},
     "output_type": "display_data"
    }
   ],
   "source": [
    "# Setup figure\n",
    "fig = swfig(paper='letter',\n",
    "            orient='landscape', \n",
    "            project=['Mud Pot Emergency', 'Yuma Subdivision MP 662.65', 'Union Pacific Railroad'],\n",
    "            figname=['Sheet Pile Deflection'],\n",
    "            fignum=3,\n",
    "            projectno=\"100503\",\n",
    "            date=(time.strftime(\"%B %Y\")))\n",
    "\n",
    "ax = fig.add_subplot(111)\n",
    "\n",
    "ax.plot_date(df.index, df['A-Axis Tilt Change'], color = 'blue', marker = '.', \\\n",
    "             markersize = 3, label='A-Axis Tilt Change', ls = 'solid')\n",
    "\n",
    "ax.plot_date(df.index, df['B-Axis Tilt Change'], color = 'green', marker = '.', \\\n",
    "             markersize = 3, label='B-Axis Tilt Change', ls = 'solid')\n",
    "\n",
    "# Setting limits\n",
    "ax.legend(loc=2)\n",
    "\n",
    "ax.set_ylim(-2, 1.5)\n",
    "ax.set_ylabel('Change in Tilt, Degrees ')\n",
    "myFmt = mdates.DateFormatter('%b %d')\n",
    "#myFmt = mdates.DateFormatter('%b %d %H:%M')\n",
    "ax.xaxis.set_major_formatter(myFmt)\n",
    "ax.yaxis.set_major_formatter(FormatStrFormatter('%g'))\n",
    "\n",
    "fig.note(['Plots indicate change in tilt from 12 p.m. on January 29, 2019'])\n",
    "\n",
    "bbox_args = dict(boxstyle=\"round\", fc=\"0.8\")\n",
    "arrow_args = dict(arrowstyle=\"->\")\n",
    "\n",
    "\n",
    "### ANNOTATIONS\n",
    "# A-Axis\n",
    "ax.annotate('A- Axis Towards Tracks', xy=(0.10, 0.80), xycoords='axes fraction',\n",
    "             xytext=(-53, -40), textcoords='offset points',\n",
    "             ha=\"left\", va=\"bottom\",\n",
    "             bbox=bbox_args,\n",
    "             arrowprops=arrow_args)\n",
    "\n",
    "ax.annotate('A- Axis Towards Mud Spring', xy=(0.12, 0.3), xycoords='axes fraction',\n",
    "             xytext=(-64, 30), textcoords='offset points',\n",
    "             ha=\"left\", va=\"bottom\",\n",
    "             bbox=bbox_args,\n",
    "             arrowprops=arrow_args)\n",
    "\n",
    "# RIP RAP\n",
    "ax.annotate('Rip rap added 02/3/19', \n",
    "             xy=('2019-02-03 07:00:00', -0.05), xycoords='data',\n",
    "             xytext=(-50,-35), textcoords='offset points',\n",
    "             ha=\"left\", va=\"bottom\",\n",
    "             bbox=dict(fc=\"cyan\"),\n",
    "             arrowprops=arrow_args)\n",
    "\n",
    "ax.annotate('Rip rap added 02/11/19', \n",
    "             xy=('2/11/2019 07:00', -0.15), xycoords='data',\n",
    "             xytext=(55,-85), textcoords='offset points',\n",
    "             ha=\"left\", va=\"bottom\",\n",
    "             bbox=dict(fc=\"cyan\"),\n",
    "             arrowprops=arrow_args)\n",
    "\n",
    "ax.annotate('Rip rap added 06/10/19', \n",
    "             xy=('6/10/2019 09:00', -0.72), xycoords='data',\n",
    "             xytext=(-85,-85), textcoords='offset points',\n",
    "             ha=\"left\", va=\"bottom\",\n",
    "             bbox=dict(fc=\"cyan\"),\n",
    "             arrowprops=arrow_args)\n",
    "\n",
    "ax.annotate('Rip rap added \\n 07/10/19 to 07/12/19', \n",
    "             xy=('7/11/2019 09:00', -0.72), xycoords='data',\n",
    "             xytext=(-85,-65), textcoords='offset points',\n",
    "             ha=\"left\", va=\"bottom\",\n",
    "             bbox=dict(fc=\"cyan\"),\n",
    "             arrowprops=arrow_args)\n",
    "\n",
    "ax.annotate('Rip rap added \\n 07/15/19', \n",
    "             xy=('7/15/2019 09:00', -0.7), xycoords='data',\n",
    "             xytext=(-15,-105), textcoords='offset points',\n",
    "             ha=\"left\", va=\"bottom\",\n",
    "             bbox=dict(fc=\"cyan\"),\n",
    "             arrowprops=arrow_args)\n",
    "\n",
    "ax.annotate('Rip rap added \\n 07/17/19 to 07/19/19', \n",
    "             xy=('7/17/2019 09:00', -0.67), xycoords='data',\n",
    "             xytext=(-85,75), textcoords='offset points',\n",
    "             ha=\"left\", va=\"bottom\",\n",
    "             bbox=dict(fc=\"cyan\"),\n",
    "             arrowprops=arrow_args)\n",
    "\n",
    "fig.tight_layout()"
   ]
  },
  {
   "cell_type": "markdown",
   "metadata": {},
   "source": [
    "# 4. Change date here"
   ]
  },
  {
   "cell_type": "code",
   "execution_count": 548,
   "metadata": {},
   "outputs": [],
   "source": [
    "# Save plot as PDF \n",
    "# CHANGE DATE HERE\n",
    "fig.savefig('fig3_20190808')"
   ]
  }
 ],
 "metadata": {
  "kernelspec": {
   "display_name": "Python 3",
   "language": "python",
   "name": "python3"
  },
  "language_info": {
   "codemirror_mode": {
    "name": "ipython",
    "version": 3
   },
   "file_extension": ".py",
   "mimetype": "text/x-python",
   "name": "python",
   "nbconvert_exporter": "python",
   "pygments_lexer": "ipython3",
   "version": "3.6.5"
  }
 },
 "nbformat": 4,
 "nbformat_minor": 2
}
